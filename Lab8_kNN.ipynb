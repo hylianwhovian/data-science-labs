{
 "cells": [
  {
   "cell_type": "markdown",
   "metadata": {},
   "source": [
    "# Lab 8: Similarity-based Prediction with k-NN 📍"
   ]
  },
  {
   "cell_type": "markdown",
   "metadata": {},
   "source": [
    "## Learning Objectives\n",
    "- Loading local csv data into Pandas dataframe\n",
    "- Preparing data for k-NN: Feature Transformation and Scaling\n",
    "- Understanding and applying the k-NN algorithm\n",
    "- Visualising k-NN decision boundaries"
   ]
  },
  {
   "cell_type": "markdown",
   "metadata": {},
   "source": [
    "## Today's Lab\n",
    "In today's lab we will investigate a simple similarity-based supervised ML algorithm and one way of making it more robust: feature transformations. \n",
    "\n",
    "**Similarity-based algorithms** use the data _directly_ to come up with insights or predictions instead of learning a model (parameterized function/relationship between variables). A commonly used similarity-based prediction algorithm is the k-Nearest-Neighbors, or k-NN algorithm. The specifics of this algorithm were covered in lecture, and here you will be able to see it applied in action, step by step.\n",
    "\n",
    "**Feature transformations** refer to a set of algorithms that create new features in the data set based on the original set of given data. This is an important step in machine learning, because after transformation the data may develop more discriminatory power. An example of this would be converting nominal data types into _binary_ or _one-hot encoding_, such as turning \"positive\" and \"negative\" values into 1 and 0. Another example is scaling and normalizing data, which will be covered in this lab, and yet another example is feature selection and generation, which we will cover in the next module. "
   ]
  },
  {
   "cell_type": "markdown",
   "metadata": {},
   "source": [
    "## Outline\n",
    "\n",
    "1. [Data Processing](#1.-Data-Processing)\n",
    "2. [Feature Transformation and Scaling](#2.-Feature-Transformation-and-Scaling)\n",
    "    1. [Explore the Feature Ranges](#Explore-the-Feature-Ranges)\n",
    "    2. [Feature Scaling (Min-Max Scaling)](#Feature-Scaling-(Min-Max-Scaling))\n",
    "    3. [Feature Standardization](#Feature-Standardization)\n",
    "    4. [Do I Need to Scale?](#Do-I-Need-to-Scale?)\n",
    "3. [k-Nearest Neighbors Algorithm](#3.-k-Nearest-Neighbors-Algorithm)\n",
    "    1. [2D Data and k-NN Review](#2D-Data-and-k-NN-Review)\n",
    "    2. [Implementing and Applying k-NN](#Implementing-and-Applying-k-NN)\n",
    "    3. [k-NN Decision Boundaries](#k-NN-Decision-Boundaries)\n",
    "    4. [What about Feature Scaling?](#What-about-Feature-Scaling?)"
   ]
  },
  {
   "cell_type": "markdown",
   "metadata": {},
   "source": [
    "## 1. Data Processing"
   ]
  },
  {
   "cell_type": "markdown",
   "metadata": {},
   "source": [
    "### Loading Our Data\n",
    "\n",
    "In this lab, we will be revisiting our old friend, the Iris dataset — think pretty flowers from Lab 1. Recall that Iris is a multivariate data set that is used in linear discriminant analysis to quantify the morphologic variation of Iris flowers of three related species: _Iris setosa_, _Iris virginica_, and _Iris versicolor_. We will be looking at four characteristics that represent each species of flower — the sepal length, the sepal width, the petal length, and the petal width. \n",
    "\n",
    "<img src=\"utility/pics/irisFlowers.png\" alt=\"iris\" />"
   ]
  },
  {
   "cell_type": "markdown",
   "metadata": {},
   "source": [
    "Normally, we would like to jump straight into using a NumPy array, but since the data has both numbers and strings, we must go through an intermediate step of encoding as we did in Lab 6 and homework 7. There are many ways of doing this. One way is by using [Pandas](https://pandas.pydata.org/) dataframes."
   ]
  },
  {
   "cell_type": "code",
   "execution_count": 1,
   "metadata": {},
   "outputs": [],
   "source": [
    "import numpy as np\n",
    "import pandas as pd\n",
    "\n",
    "data = pd.read_csv('utility/data/iris.csv')"
   ]
  },
  {
   "cell_type": "markdown",
   "metadata": {},
   "source": [
    "### Dropping Duplicates and Encoding Variables\n",
    "\n",
    "Let's drop the datapoints that have the same values for `sepal_length` and `sepal_width` and take a look at the first 5 rows of the data."
   ]
  },
  {
   "cell_type": "code",
   "execution_count": 2,
   "metadata": {},
   "outputs": [
    {
     "data": {
      "text/html": [
       "<div>\n",
       "<style scoped>\n",
       "    .dataframe tbody tr th:only-of-type {\n",
       "        vertical-align: middle;\n",
       "    }\n",
       "\n",
       "    .dataframe tbody tr th {\n",
       "        vertical-align: top;\n",
       "    }\n",
       "\n",
       "    .dataframe thead th {\n",
       "        text-align: right;\n",
       "    }\n",
       "</style>\n",
       "<table border=\"1\" class=\"dataframe\">\n",
       "  <thead>\n",
       "    <tr style=\"text-align: right;\">\n",
       "      <th></th>\n",
       "      <th>sepal_length</th>\n",
       "      <th>sepal_width</th>\n",
       "      <th>petal_length</th>\n",
       "      <th>petal_width</th>\n",
       "      <th>species</th>\n",
       "    </tr>\n",
       "  </thead>\n",
       "  <tbody>\n",
       "    <tr>\n",
       "      <th>0</th>\n",
       "      <td>5.1</td>\n",
       "      <td>3.5</td>\n",
       "      <td>1.4</td>\n",
       "      <td>0.2</td>\n",
       "      <td>setosa</td>\n",
       "    </tr>\n",
       "    <tr>\n",
       "      <th>1</th>\n",
       "      <td>4.9</td>\n",
       "      <td>3.0</td>\n",
       "      <td>1.4</td>\n",
       "      <td>0.2</td>\n",
       "      <td>setosa</td>\n",
       "    </tr>\n",
       "    <tr>\n",
       "      <th>2</th>\n",
       "      <td>4.7</td>\n",
       "      <td>3.2</td>\n",
       "      <td>1.3</td>\n",
       "      <td>0.2</td>\n",
       "      <td>setosa</td>\n",
       "    </tr>\n",
       "    <tr>\n",
       "      <th>3</th>\n",
       "      <td>4.6</td>\n",
       "      <td>3.1</td>\n",
       "      <td>1.5</td>\n",
       "      <td>0.2</td>\n",
       "      <td>setosa</td>\n",
       "    </tr>\n",
       "    <tr>\n",
       "      <th>4</th>\n",
       "      <td>5.0</td>\n",
       "      <td>3.6</td>\n",
       "      <td>1.4</td>\n",
       "      <td>0.2</td>\n",
       "      <td>setosa</td>\n",
       "    </tr>\n",
       "  </tbody>\n",
       "</table>\n",
       "</div>"
      ],
      "text/plain": [
       "   sepal_length  sepal_width  petal_length  petal_width species\n",
       "0           5.1          3.5           1.4          0.2  setosa\n",
       "1           4.9          3.0           1.4          0.2  setosa\n",
       "2           4.7          3.2           1.3          0.2  setosa\n",
       "3           4.6          3.1           1.5          0.2  setosa\n",
       "4           5.0          3.6           1.4          0.2  setosa"
      ]
     },
     "execution_count": 2,
     "metadata": {},
     "output_type": "execute_result"
    }
   ],
   "source": [
    "\n",
    "data = data.drop_duplicates(subset=['sepal_length','sepal_width']);\n",
    "\n",
    "data.head()"
   ]
  },
  {
   "cell_type": "markdown",
   "metadata": {},
   "source": [
    "Notice that each row, example, has four features: `sepal_length`, `sepal_width`, `petal_length`, and `petal_width`. Each example also has a `species` value, which indicates the species this plant belongs to. If we were to create a prediction model, we would like to give it examples containing the four features and have it output a predicted species label."
   ]
  },
  {
   "cell_type": "markdown",
   "metadata": {},
   "source": [
    "#### Target Variable Encoding\n",
    "Also notice that the categorical target varaible species is currently represetned by strings. In order to apply our mathematical formulas, we will have to encode these as [enumerated values](https://en.wikipedia.org/wiki/Enumeration). For example,\n",
    "\n",
    "| Encoding | 0      | 1          | 2         |\n",
    "| --------:|:------ |:---------- |:--------- |\n",
    "| Species  | setosa | versicolor | virginica |"
   ]
  },
  {
   "cell_type": "markdown",
   "metadata": {},
   "source": [
    "> [🐍 **Python Feature** 🐍]: Previously we used `sklearn` to encode target variables and features. Today we show you how you can **encodings** for simple repacements of strings with numbers in `pandas`.  We will create a dictionary that maps each species to the corresponding values in the table above and store it in `encoding`. We will then use it with the [`replace` 🔗](https://pandas.pydata.org/pandas-docs/stable/reference/api/pandas.DataFrame.replace.html) method to apply the encoding to the species column in `data`."
   ]
  },
  {
   "cell_type": "code",
   "execution_count": 3,
   "metadata": {},
   "outputs": [],
   "source": [
    "encoding = {'setosa': 0, 'versicolor': 1, 'virginica': 2}\n",
    "\n",
    "assert 'encoding' in globals(), 'Did you name your dictionary `encoding`?'\n",
    "assert not (set(encoding.keys()) - set(data['species'].unique())), \\\n",
    "    'Double check that you have a mapping for each species'\n",
    "\n",
    "\n",
    "# apply species encoding table to species column\n",
    "encoded = data.copy() \n",
    "encoded['species'] = data['species'].replace(encoding)\n",
    "\n",
    "\n",
    "assert np.all(encoded['species'].unique() == np.arange(3)), \\\n",
    "    'You should replace the values in data[\"species\"]'"
   ]
  },
  {
   "cell_type": "markdown",
   "metadata": {},
   "source": [
    "Let's take a look at the first five rows of the `encoded` again after your encoding."
   ]
  },
  {
   "cell_type": "code",
   "execution_count": 4,
   "metadata": {},
   "outputs": [
    {
     "data": {
      "text/html": [
       "<div>\n",
       "<style scoped>\n",
       "    .dataframe tbody tr th:only-of-type {\n",
       "        vertical-align: middle;\n",
       "    }\n",
       "\n",
       "    .dataframe tbody tr th {\n",
       "        vertical-align: top;\n",
       "    }\n",
       "\n",
       "    .dataframe thead th {\n",
       "        text-align: right;\n",
       "    }\n",
       "</style>\n",
       "<table border=\"1\" class=\"dataframe\">\n",
       "  <thead>\n",
       "    <tr style=\"text-align: right;\">\n",
       "      <th></th>\n",
       "      <th>sepal_length</th>\n",
       "      <th>sepal_width</th>\n",
       "      <th>petal_length</th>\n",
       "      <th>petal_width</th>\n",
       "      <th>species</th>\n",
       "    </tr>\n",
       "  </thead>\n",
       "  <tbody>\n",
       "    <tr>\n",
       "      <th>0</th>\n",
       "      <td>5.1</td>\n",
       "      <td>3.5</td>\n",
       "      <td>1.4</td>\n",
       "      <td>0.2</td>\n",
       "      <td>0</td>\n",
       "    </tr>\n",
       "    <tr>\n",
       "      <th>1</th>\n",
       "      <td>4.9</td>\n",
       "      <td>3.0</td>\n",
       "      <td>1.4</td>\n",
       "      <td>0.2</td>\n",
       "      <td>0</td>\n",
       "    </tr>\n",
       "    <tr>\n",
       "      <th>2</th>\n",
       "      <td>4.7</td>\n",
       "      <td>3.2</td>\n",
       "      <td>1.3</td>\n",
       "      <td>0.2</td>\n",
       "      <td>0</td>\n",
       "    </tr>\n",
       "    <tr>\n",
       "      <th>3</th>\n",
       "      <td>4.6</td>\n",
       "      <td>3.1</td>\n",
       "      <td>1.5</td>\n",
       "      <td>0.2</td>\n",
       "      <td>0</td>\n",
       "    </tr>\n",
       "    <tr>\n",
       "      <th>4</th>\n",
       "      <td>5.0</td>\n",
       "      <td>3.6</td>\n",
       "      <td>1.4</td>\n",
       "      <td>0.2</td>\n",
       "      <td>0</td>\n",
       "    </tr>\n",
       "  </tbody>\n",
       "</table>\n",
       "</div>"
      ],
      "text/plain": [
       "   sepal_length  sepal_width  petal_length  petal_width  species\n",
       "0           5.1          3.5           1.4          0.2        0\n",
       "1           4.9          3.0           1.4          0.2        0\n",
       "2           4.7          3.2           1.3          0.2        0\n",
       "3           4.6          3.1           1.5          0.2        0\n",
       "4           5.0          3.6           1.4          0.2        0"
      ]
     },
     "execution_count": 4,
     "metadata": {},
     "output_type": "execute_result"
    }
   ],
   "source": [
    "encoded.head()"
   ]
  },
  {
   "cell_type": "markdown",
   "metadata": {},
   "source": [
    "At this point we should mention that in the real-world, we should also consider the possibility of missing values and outliers, as well as, perform a thorough EDA procedure (maybe with $k$-means clustering 😎). However, for the sake of time, and the fact that we have examined the Iris dataset in the past, we will skip this and move on."
   ]
  },
  {
   "cell_type": "markdown",
   "metadata": {},
   "source": [
    "### Pandas --> Numpy\n",
    "Now that our data has been processed, let's pop it out of `pandas` and into `numpy`."
   ]
  },
  {
   "cell_type": "code",
   "execution_count": 5,
   "metadata": {},
   "outputs": [],
   "source": [
    "values = encoded.values\n",
    "X, y = values[:, :4], values[:, 4]"
   ]
  },
  {
   "cell_type": "markdown",
   "metadata": {},
   "source": [
    "## 2. Feature Transformation and Scaling \n",
    "\n",
    "First, let's do a train-test split, and assume for now the only data we have available is the **training data**. "
   ]
  },
  {
   "cell_type": "code",
   "execution_count": 6,
   "metadata": {},
   "outputs": [],
   "source": [
    "from sklearn.model_selection import train_test_split\n",
    "\n",
    "X_train, X_test, y_train, y_test = train_test_split(X, y, test_size=0.15, random_state=5)"
   ]
  },
  {
   "cell_type": "markdown",
   "metadata": {},
   "source": [
    "When working with large datasets, our dataset will contain features that vary highly in magnitudes, units, spread, and range. However, many algorithms, such as the `kNN` algorithm we are working with today, use Euclidean distance between two points in their computations. \n",
    "> Reminder: $$\\|\\pmb{p} - \\pmb{q} \\| = \\sqrt{\\sum_{j=1}^{d} (p_j - q_j)^2}$$\n",
    "\n",
    "As you can see from this formula, features with much higher magnitues and spread will weigh in a lot more than features with smaller magnitudes, even though a smaller magnitude doesn't necessarily mean that it's less important! \n",
    "\n",
    "<img src=\"utility/pics/largeVsSmall.png\" alt=\"small vs large\"/>\n",
    "\n",
    "For example, let's assume that one particular set of data has three features. The first feature is a property that ranges from 1-10, the second feature is a property that ranges from 1-100, and the last feature is a property that ranges from 1-10,000 (i.e. smaller changes in the larger feature can have disproportionately large effects). When training our classifier with this information, the kNN algorithm would take much more heavily into account the third feature when clustering because of its much more exaggerated difference in values when compared to the first or second features. This may lead to missed classifications. To avoid this, we need to normalize our data. \n",
    "\n",
    "> **Caution**: Avoid **data snooping**! Any feature analysis you perform before doing supervised learning has to be done based on the **training data set** _only_. We can't use knowlege about the data distribution coming from the test data, since this would perturb our evaluation results in a falsely favorable way. In other words, using the test data for anything else other than testing/evaluation would be _cheating_. \n",
    "\n",
    "### Explore the Feature Ranges\n",
    "\n",
    "Execute the following cell to view the range of our features in the **training data**. "
   ]
  },
  {
   "cell_type": "code",
   "execution_count": 7,
   "metadata": {},
   "outputs": [
    {
     "name": "stdout",
     "output_type": "stream",
     "text": [
      "\n",
      "Range of sepal length values: 4.3 ~ 7.7\n",
      "Range of sepal width  values: 2.0 ~ 4.4\n",
      "Range of petal length values: 1.0 ~ 6.9\n",
      "Range of petal width  values: 0.1 ~ 2.5\n",
      "\n"
     ]
    }
   ],
   "source": [
    "print(f'''\n",
    "Range of sepal length values: {X_train[:, 0].min()} ~ {X_train[:, 0].max()}\n",
    "Range of sepal width  values: {X_train[:, 1].min()} ~ {X_train[:, 1].max()}\n",
    "Range of petal length values: {X_train[:, 2].min()} ~ {X_train[:, 2].max()}\n",
    "Range of petal width  values: {X_train[:, 3].min()} ~ {X_train[:, 3].max()}\n",
    "''')"
   ]
  },
  {
   "cell_type": "markdown",
   "metadata": {},
   "source": [
    "Notice how the ranges do vary between the features. We can also visualize the differences in ranges for each feature with a **box plot**."
   ]
  },
  {
   "cell_type": "code",
   "execution_count": 8,
   "metadata": {},
   "outputs": [],
   "source": [
    "import matplotlib.pyplot as plt\n",
    "from utility.util import configure_plots\n",
    "\n",
    "# to get pretty plots!\n",
    "configure_plots()"
   ]
  },
  {
   "cell_type": "code",
   "execution_count": 9,
   "metadata": {},
   "outputs": [
    {
     "data": {
      "text/plain": [
       "Text(0.5, 1.0, 'Original Data')"
      ]
     },
     "execution_count": 9,
     "metadata": {},
     "output_type": "execute_result"
    },
    {
     "data": {
      "image/png": "[encoded data removed]",
      "text/plain": [
       "<Figure size 864x576 with 1 Axes>"
      ]
     },
     "metadata": {
      "needs_background": "light"
     },
     "output_type": "display_data"
    }
   ],
   "source": [
    "# repeat to get pretty plots the first time even\n",
    "configure_plots()\n",
    "\n",
    "plt.boxplot(X_train)\n",
    "plt.xlabel('Features')\n",
    "plt.ylabel('Values')\n",
    "plt.title('Original Data')"
   ]
  },
  {
   "cell_type": "markdown",
   "metadata": {},
   "source": [
    "**Write-up!** Discuss with your neighbors what kinds of information we can understand from a box plot. What is the orange line? What are the boxes? What are the whiskers, what are the dots? Note your answer in the cell below. \n",
    ">**Hint**: we covered some of this in `Lab1`."
   ]
  },
  {
   "cell_type": "markdown",
   "metadata": {},
   "source": [
    "**Your response here:** \n"
   ]
  },
  {
   "cell_type": "markdown",
   "metadata": {},
   "source": [
    "### Feature Scaling (Min-Max Scaling)\n",
    "\n",
    "In order to not have one feature weighted more heavily than another, we must scale the data. Here, we scale features so that they exist within a 0-1 range (sometimes referred to as 'min-max scaling'). This can be done with this formula $$X_{\\text{scaled}} = \\frac{X - X_\\min}{X_\\max - X_\\min}$$\n",
    "\n",
    "> **Important**: We will need to make sure we use the same transformation on both our training and test sets. That means that we should scale `X_test` by the min and max of `X_train`."
   ]
  },
  {
   "cell_type": "markdown",
   "metadata": {},
   "source": [
    "This will be useful: **Broadcasting**\n",
    "\n",
    "> [🐍 **Python Feature** 🐍]: In `numpy` it is possible to do operations on arrays of _different sizes_. In some case `numpy` can transform these arrays _automatically_ so that they all have the same size: this conversion is called **broadcasting**. Assuming we would do addition for a matrix `a` and a vector `b`, then `a+b` does sth like this: \n",
    "\n",
    "<img src=\"utility/pics/broadcasting_mat_vec.png\" alt=\"Drawing\" style=\"width: 600px;\"/>\n",
    "\n",
    "Look, it works!"
   ]
  },
  {
   "cell_type": "code",
   "execution_count": 10,
   "metadata": {},
   "outputs": [
    {
     "name": "stdout",
     "output_type": "stream",
     "text": [
      "(4, 3)\n",
      "(3,)\n"
     ]
    },
    {
     "data": {
      "text/plain": [
       "array([[ 0,  1,  2],\n",
       "       [10, 11, 12],\n",
       "       [20, 21, 22],\n",
       "       [30, 31, 32]])"
      ]
     },
     "execution_count": 10,
     "metadata": {},
     "output_type": "execute_result"
    }
   ],
   "source": [
    "A = np.array([[0, 0, 0],[10, 10, 10],[20,20,20],[30,30,30]])\n",
    "print(A.shape)\n",
    "b = np.array([0,1,2])\n",
    "print(b.shape)\n",
    "A+b"
   ]
  },
  {
   "cell_type": "markdown",
   "metadata": {},
   "source": [
    "**Try this!** Complete the `min_max_scale` function so that it computes $X_{\\text{scaled}}$ and store it into `X_scaled`. \n",
    "\n",
    ">**Hint** Remeber `numpy`'s braodcasting properties and use `numpy` operations (instead of `for` loops!!) and think about over which values you should take the `min` and `max` over."
   ]
  },
  {
   "cell_type": "code",
   "execution_count": 13,
   "metadata": {},
   "outputs": [],
   "source": [
    "def min_max_scale(X_in, min_scale_by=None, max_scale_by=None):\n",
    "    ''' Computes the min-max scaled transformation of X_in\n",
    "        * if min_scale_by or max_scale_by is None: compute the min and max based on X_in, then scale X_in\n",
    "        * if min_scale_by and max_scale_by are proveded: use those to scale X_in. '''\n",
    "    \n",
    "    # only return scale parameters if they are computed on X_in\n",
    "    return_scale_parameters = (min_scale_by is None) or (max_scale_by is None)\n",
    "        \n",
    "    # compute min if not provided\n",
    "    if min_scale_by is None:\n",
    "        min_scale_by = X_in.min(axis=0)\n",
    "\n",
    "        \n",
    "    #compute max if not provided\n",
    "    if max_scale_by is None:\n",
    "        max_scale_by = X_in.max(axis=0)\n",
    "\n",
    "    \n",
    "    print(min_scale_by.shape)\n",
    "    print(X_in.shape)\n",
    "    X_scaled = (X_in - min_scale_by)/(max_scale_by-min_scale_by) \n",
    "\n",
    "    \n",
    "    assert isinstance(max_scale_by, np.ndarray), 'Compute the maximum for each feature dimension.'\n",
    "    assert isinstance(min_scale_by, np.ndarray), 'Compute the minimum for each feature dimension.'\n",
    "    assert X_scaled.shape == X_in.shape, 'The shape of the array X should not change'\n",
    "\n",
    "    if return_scale_parameters:\n",
    "        return X_scaled, min_scale_by, max_scale_by\n",
    "    else: \n",
    "        return X_scaled"
   ]
  },
  {
   "cell_type": "markdown",
   "metadata": {},
   "source": [
    "Let's try visualizing the changes made by our scaling procedure with a box plot. In the cell below, we recreate the plot we made earlier, but this time, create box plots for the scaled data."
   ]
  },
  {
   "cell_type": "code",
   "execution_count": 14,
   "metadata": {},
   "outputs": [
    {
     "name": "stdout",
     "output_type": "stream",
     "text": [
      "(4,)\n",
      "(98, 4)\n",
      "(4,)\n",
      "(18, 4)\n"
     ]
    },
    {
     "data": {
      "text/plain": [
       "Text(0, 0.5, 'Values')"
      ]
     },
     "execution_count": 14,
     "metadata": {},
     "output_type": "execute_result"
    },
    {
     "data": {
      "image/png": "[encoded data removed]",
      "text/plain": [
       "<Figure size 864x576 with 1 Axes>"
      ]
     },
     "metadata": {
      "needs_background": "light"
     },
     "output_type": "display_data"
    }
   ],
   "source": [
    "X_train_scaled, min_scale_by, max_scale_by = min_max_scale(X_train)\n",
    "X_test_scaled = min_max_scale(X_test, min_scale_by, max_scale_by)\n",
    "\n",
    "plt.boxplot(X_train_scaled)\n",
    "plt.xlabel('Features')\n",
    "plt.ylabel('Values')"
   ]
  },
  {
   "cell_type": "markdown",
   "metadata": {},
   "source": [
    "**Write-up!** Discuss with your neighbors the differences you observed between your earlier plot and this plot. Write your answer in the cell below."
   ]
  },
  {
   "cell_type": "markdown",
   "metadata": {},
   "source": [
    "**Your response here:** \n"
   ]
  },
  {
   "cell_type": "markdown",
   "metadata": {},
   "source": [
    "### Feature Standardization\n",
    "\n",
    "Another way to scale our data is to perform **standardization**, which is done by computing $$Z = \\frac{X - \\bar X}{\\text{std}(X)},$$ where division is element-wise. Here, $Z$ is a matrix holding the standardized features in its columns. For those who are familiar with statistics (don't worry if you're not), this formula computes the [z-scores](https://en.wikipedia.org/wiki/Standard_score) for each value in $X$. The effect of this is to transform the data to have zero mean and unit variance (i.e. to be normally distibuted).\n",
    "\n",
    "> **Note:** We will need to make sure we use the same transformation on both our training and test sets. That means that we should scale `X_test` by the mean and standard deviation of `X_train`."
   ]
  },
  {
   "cell_type": "markdown",
   "metadata": {},
   "source": [
    "**Try this!** Complete the `standardize` function so that it computes $Z$ and stores it in `Z`. \n",
    "> **Hint:**  Again, use `numpy` operations (instead of `for` loops!!) and think about over which values you should take the `mean` and `std` over."
   ]
  },
  {
   "cell_type": "code",
   "execution_count": 15,
   "metadata": {},
   "outputs": [],
   "source": [
    "def standardize(X_in, mean_scale_by=None, std_scale_by=None):\n",
    "    ''' Computes the minstandardization of X_in\n",
    "        * if mean_scale_by or std_scale_by is None: compute the min and max based on X_in, then scale X_in\n",
    "        * if mean_scale_by and std_scale_by are proveded: use those to scale X_in. '''\n",
    "    \n",
    "    return_std_parameters = (mean_scale_by is None) or (std_scale_by is None)\n",
    "        \n",
    "    if mean_scale_by is None:\n",
    "        mean_scale_by = X_in.mean(axis=0)\n",
    "\n",
    "        \n",
    "    if std_scale_by is None:\n",
    "        std_scale_by = X_in.std(axis=0)\n",
    "\n",
    "        \n",
    "    Z = (X_in - mean_scale_by)/std_scale_by\n",
    "\n",
    "    \n",
    "    \n",
    "    assert isinstance(mean_scale_by, np.ndarray), 'Compute the mean for each feature dimension.'\n",
    "    assert isinstance(std_scale_by, np.ndarray), 'Compute the std for each feature dimension.'\n",
    "    assert Z.shape == X_in.shape, 'The shape of the array X should not change'\n",
    "\n",
    "    if return_std_parameters:\n",
    "        assert mean_scale_by is not None, 'mean_scale_by not computed'\n",
    "        assert std_scale_by is not None, 'std_scale_by not computed'\n",
    "        return Z, mean_scale_by, std_scale_by\n",
    "    else: \n",
    "        return Z"
   ]
  },
  {
   "cell_type": "markdown",
   "metadata": {},
   "source": [
    "Let's try visualizing the changes made by our scaling procedure with a box plot. In the cell below, we, again, recreate the plot we made earlier, but this time, create box plots for the scaled data."
   ]
  },
  {
   "cell_type": "code",
   "execution_count": 16,
   "metadata": {},
   "outputs": [
    {
     "data": {
      "text/plain": [
       "Text(0, 0.5, 'Values')"
      ]
     },
     "execution_count": 16,
     "metadata": {},
     "output_type": "execute_result"
    },
    {
     "data": {
      "image/png": "[encoded data removed]",
      "text/plain": [
       "<Figure size 864x576 with 1 Axes>"
      ]
     },
     "metadata": {
      "needs_background": "light"
     },
     "output_type": "display_data"
    }
   ],
   "source": [
    "X_train_std, mean_scale_by, std_scale_by = standardize(X_train)\n",
    "X_test_std = standardize(X_test, min_scale_by, max_scale_by)\n",
    "\n",
    "plt.boxplot(X_train_std)\n",
    "plt.xlabel('Features')\n",
    "plt.ylabel('Values')"
   ]
  },
  {
   "cell_type": "markdown",
   "metadata": {},
   "source": [
    "**Write-up!** Discuss with your neighbors the differences you observed between this plot and the 'min-max' scaled plot, as well as, why scaling to a range might be better than standardization and vice-versa. In what case would you use one over the other? Note your answer in the cell below."
   ]
  },
  {
   "cell_type": "markdown",
   "metadata": {},
   "source": [
    "**Your response here:** \n"
   ]
  },
  {
   "cell_type": "markdown",
   "metadata": {},
   "source": [
    "### Do I Need to Scale?\n",
    "\n",
    "*As so often in machine learning*, the simple answer to this question is: it depends on the kind of **model** _and_ your **data set**! So, really we want to try it and compare the evaluation results (using a _validation set_ or _cross-validation_). We will do this for k-NN in the next part. \n",
    "\n",
    "However, there are models in which scaling has **zero effect** and hence does need to be tried. For example, scaling does **not** matter for **linear regression** when using the algorithm we derived in this course (i.e., using the analytic solution without a regularization term). \n",
    "\n",
    "**Write-up!** Can you explain why?"
   ]
  },
  {
   "cell_type": "markdown",
   "metadata": {},
   "source": [
    "**Your response here:** \n"
   ]
  },
  {
   "cell_type": "markdown",
   "metadata": {},
   "source": [
    "## 3. k-Nearest Neighbors Algorithm"
   ]
  },
  {
   "cell_type": "markdown",
   "metadata": {},
   "source": [
    "### 2D Data and k-NN Review\n",
    "Although we are given four-dimensional input data (there are four features presented), we will only be using two dimensions in this analysis for ease of visualization, as it's easier to plot in two dimensions than it is to plot in four dimensions.\n",
    "\n",
    "For this lab, let's ditch `petal_length` and `petal_width`. This means we will be left with `sepal_length` and `sepal_width`."
   ]
  },
  {
   "cell_type": "code",
   "execution_count": 17,
   "metadata": {},
   "outputs": [],
   "source": [
    "X_2D_train = X_train[:, :2]\n",
    "X_2D_test = X_test[:, :2]"
   ]
  },
  {
   "cell_type": "markdown",
   "metadata": {},
   "source": [
    "#### Reviewing k-NN Classification\n",
    "Let's briefly revisit how the `kNN` algorithmn works with a two dimensional dataset, so that we can design one ourselves.\n",
    "\n",
    "The `kNN` algorithm is known as a \"lazy-learner,\" meaning that it doesn't actually make any computations in the training phase. After inputting our training data, the algorithm stores the data points and waits for us to input test features before making any computations. After loading our `sepal_length` and `sepal_width` data into our `kNN` algorithm, we are ready to start making predictions. \n",
    "\n",
    "1. As a first step our algorithm will calculate the Euclidean distance from each existing datapoint to our input point. \n",
    "2. The algorithm will then take the `k` nearest neighbors to our input data and calculate the **mode**, which is the label that appears the most frequently within the `k` neighbors. \n",
    "3. This value is returned as the predicted label for the test input. \n",
    "\n",
    "<img src=\"utility/pics/kNNgraph.png\" alt=\"knn graph\" />"
   ]
  },
  {
   "cell_type": "markdown",
   "metadata": {},
   "source": [
    "In the graph above, `k = 6`. The points within the dotted circle are the 6 closet points to the star, which is our input point. \n",
    "\n",
    "**Write-up!** What is the **mode label** and what is the mode label's **frequency**? Would the star be classified as `Class A` or `Class B`? "
   ]
  },
  {
   "cell_type": "markdown",
   "metadata": {},
   "source": [
    "**Your response here:** \n"
   ]
  },
  {
   "cell_type": "markdown",
   "metadata": {},
   "source": [
    "### Implementing and Applying k-NN\n",
    "\n",
    "We are ready to design our own k-NN algorithm and apply it to our flower species predicition problem using the sepal width and length as input features. \n",
    "\n",
    "Let's use the test input [$6.2, 3.1$]."
   ]
  },
  {
   "cell_type": "code",
   "execution_count": 18,
   "metadata": {},
   "outputs": [
    {
     "name": "stdout",
     "output_type": "stream",
     "text": [
      "(98, 2)\n",
      "(1, 2)\n"
     ]
    }
   ],
   "source": [
    "x_star = np.array([[6.2, 3.1]])\n",
    "\n",
    "print(X_2D_train.shape)\n",
    "print(x_star.shape)"
   ]
  },
  {
   "cell_type": "markdown",
   "metadata": {},
   "source": [
    "#### Distance Measure\n",
    "\n",
    "As with k-Means, we will also need to have some distance measures here in order to compute the 'similarity' between our target point and those in our dataset. As mentioned earlier, Euclidean distance is a common choice. And, since you have already implemented it in `Lab7`, we will provide our implementation for you to use here.\n",
    "\n",
    "> **Note:** The function below works for either two data points (vectors) `a` and `b` **or** for a feature matrix `a` and a vector `b`. In the latter case it will compute the difference of each row in the matrix `a` with `b` elementwise and then the norm is taken across the rows by providing the `axis=1` argument. The return variable is a (column) vector of distances. "
   ]
  },
  {
   "cell_type": "code",
   "execution_count": 19,
   "metadata": {},
   "outputs": [],
   "source": [
    "def compute_distances(a, b):\n",
    "    '''Computes the Euclidean distance between point(s) a and b.'''\n",
    "    \n",
    "    distances = np.linalg.norm(a - b, axis=a.ndim > 1)\n",
    "\n",
    "    assert distances.shape[0] == a.shape[0], 'You should return one distance for each point in X'\n",
    "    \n",
    "    return distances"
   ]
  },
  {
   "cell_type": "code",
   "execution_count": 20,
   "metadata": {},
   "outputs": [
    {
     "data": {
      "text/plain": [
       "(98,)"
      ]
     },
     "execution_count": 20,
     "metadata": {},
     "output_type": "execute_result"
    }
   ],
   "source": [
    "distances_x_star = compute_distances(X_2D_train, x_star)\n",
    "\n",
    "# test this / verify the output dimensions are correct\n",
    "distances_x_star.shape"
   ]
  },
  {
   "cell_type": "markdown",
   "metadata": {},
   "source": [
    "#### Making Predictions\n",
    "\n",
    "To make predictions, we will need to compute the distance between our target input point and every point in the dataset. And then we will need to find the labels of the $k$ closest points."
   ]
  },
  {
   "cell_type": "markdown",
   "metadata": {},
   "source": [
    "**Try this!** In the following cell, we implement the `get_closest_labels` function so that it computes the labels of the $k$ closest points for a _single_ array of distances. \n",
    "\n",
    "> **Hint:** The idea is to sort (or partially sort) the points by increasing distance\n",
    "and then take the indices of the top-k closet ones. Use the [`np.argsort` 🔗](https://www.numpy.org/devdocs/reference/generated/numpy.argsort.html#numpy.argsort) or [`np.argpartition` 🔗](https://www.numpy.org/devdocs/reference/generated/numpy.argpartition.html#numpy.argpartition) to get the indices of the distance values ordered from smallest to largest first and then select the first `k` and use those to index into`y`. Store the resulting labels of the k-nearest neigbors in `labels`. "
   ]
  },
  {
   "cell_type": "code",
   "execution_count": 21,
   "metadata": {},
   "outputs": [],
   "source": [
    "def get_closest_labels(distances, y, k):\n",
    "    '''\n",
    "    Retrieves the labels of the k points that have the smallest distance\n",
    "    given distances and labels y.\n",
    "    '''\n",
    "    \n",
    "    sort = np.argsort(distances)\n",
    "    labels = sort[:k]\n",
    "    labels = y[labels]\n",
    "\n",
    "    \n",
    "    assert labels.shape[0] == k, 'You should return the labels of the k nearest neighbors'\n",
    "    assert set(labels).issubset({0., 1., 2.}) , 'You should only get labels that are 0, 1, or 2.'\n",
    "    \n",
    "    return labels"
   ]
  },
  {
   "cell_type": "markdown",
   "metadata": {},
   "source": [
    "Let's get the labels of the five closests points to input `x_star`. Check your implementation: using `k=5` you should get \n",
    "* the label `1` three times and \n",
    "* the label `2` two times."
   ]
  },
  {
   "cell_type": "code",
   "execution_count": 22,
   "metadata": {},
   "outputs": [
    {
     "name": "stdout",
     "output_type": "stream",
     "text": [
      "[1. 2. 1. 2. 1.]\n"
     ]
    }
   ],
   "source": [
    "print(get_closest_labels(distances_x_star, y_train, 5))"
   ]
  },
  {
   "cell_type": "markdown",
   "metadata": {},
   "source": [
    "Based on these labels, what should be our final predicted class label for this test point and which species is that? Let's implement this.\n",
    "\n",
    "**Try this!** Complete the `predict` function so that it computes the final predicted labels of the points in `X_test` given `X_train`, `y_train`, and `k`. Make sure your function works for multiple test points. \n",
    "> **Hint**: you may iterate through each point in `X_test` using a `for` loop. Whenever you need to loop over the values in an array (or a list) while also needing the index, use [`enumerate` 🔗](https://docs.python.org/3/library/functions.html#enumerate). It gives you **both**, the index and the array/list entry. Refer to your implementation of `assign()` in `Lab7` under _Assigning Points to Clusters_."
   ]
  },
  {
   "cell_type": "code",
   "execution_count": 29,
   "metadata": {},
   "outputs": [],
   "source": [
    "from scipy.stats import mode\n",
    "def predict(X_train, y_train, k, X_test):\n",
    "    '''Computes the final prediction given the closest labels'''\n",
    "    \n",
    "    \n",
    "    predictions = np.zeros(X_test.shape[0])\n",
    "    \n",
    "    for i, point in enumerate(X_test):\n",
    "        distances = compute_distances(X_train, point)\n",
    "        closest = get_closest_labels(distances, y_train, k)\n",
    "        predictions[i] = mode(closest).mode\n",
    "    \n",
    "\n",
    "    \n",
    "    assert predictions.shape[0] == X_test.shape[0], 'You should return the labels of the K nearest neighbors'\n",
    "    \n",
    "    return predictions"
   ]
  },
  {
   "cell_type": "markdown",
   "metadata": {},
   "source": [
    "Now, let's test our `predict` function."
   ]
  },
  {
   "cell_type": "code",
   "execution_count": 30,
   "metadata": {},
   "outputs": [
    {
     "data": {
      "text/plain": [
       "array([1.])"
      ]
     },
     "execution_count": 30,
     "metadata": {},
     "output_type": "execute_result"
    }
   ],
   "source": [
    "# test one input\n",
    "y_hat = predict(X_2D_train, y_train, 3, x_star)\n",
    "y_hat"
   ]
  },
  {
   "cell_type": "code",
   "execution_count": 31,
   "metadata": {},
   "outputs": [
    {
     "data": {
      "text/plain": [
       "array([1., 1.])"
      ]
     },
     "execution_count": 31,
     "metadata": {},
     "output_type": "execute_result"
    }
   ],
   "source": [
    "# test matrix of two inputs\n",
    "y_hat = predict(X_2D_train, y_train, 3, np.concatenate((x_star,x_star)))\n",
    "y_hat"
   ]
  },
  {
   "cell_type": "markdown",
   "metadata": {},
   "source": [
    "#### Verify your Implementation \n",
    "Here is a quick visualization to verify the correctness of your implementations. Let's test our `predict` function on the entire test data `X_2D_test` and visualiz the predictions."
   ]
  },
  {
   "cell_type": "code",
   "execution_count": 32,
   "metadata": {},
   "outputs": [
    {
     "data": {
      "image/png": "[encoded data removed]",
      "text/plain": [
       "<Figure size 864x576 with 1 Axes>"
      ]
     },
     "metadata": {
      "needs_background": "light"
     },
     "output_type": "display_data"
    }
   ],
   "source": [
    "from utility.util import plt_data\n",
    "\n",
    "my_k = 7\n",
    "y_hat = predict(X_2D_train, y_train, my_k, X_2D_test)\n",
    "\n",
    "# visulaize training and test data\n",
    "plt_data(X_2D_train, y_train, encoding, X_2D_test, y_hat)"
   ]
  },
  {
   "cell_type": "markdown",
   "metadata": {},
   "source": [
    "### k-NN Decision Boundaries\n",
    "Unfortunately, the visualization above does not show us how accurate our kNN algorithm is since it does not visualize the **ground truth** (test observations). By executing the following cell of code, we can visualize this.\n",
    "> **Note:** Each colored area represents the region where the input would be predicted as each of the three labels. The color of each point represents which class of species the features actually belong to (ground truth). "
   ]
  },
  {
   "cell_type": "code",
   "execution_count": 33,
   "metadata": {},
   "outputs": [
    {
     "name": "stderr",
     "output_type": "stream",
     "text": [
      "C:\\Users\\Hyrul\\Desktop\\School\\4 Semester\\Intro to Data Science\\Labs\\Lab 8\\lab8-groupe1\\utility\\util.py:82: MatplotlibDeprecationWarning: shading='flat' when X and Y have the same dimensions as C is deprecated since 3.3.  Either specify the corners of the quadrilaterals with X and Y, or pass shading='auto', 'nearest' or 'gouraud', or set rcParams['pcolor.shading'].  This will become an error two minor releases later.\n",
      "  plt.pcolormesh(xx, yy, Z, cmap=cmap_light)\n"
     ]
    },
    {
     "data": {
      "image/png": "[encoded data removed]",
      "text/plain": [
       "<Figure size 864x576 with 1 Axes>"
      ]
     },
     "metadata": {
      "needs_background": "light"
     },
     "output_type": "display_data"
    }
   ],
   "source": [
    "from utility.util import plot_knn\n",
    "\n",
    "my_k = 7\n",
    "plot_knn(X_2D_train, X_2D_test, y_train, y_test, k=my_k)"
   ]
  },
  {
   "cell_type": "markdown",
   "metadata": {},
   "source": [
    "Consider the area in which Iris-`virginica` datapoints exist within the boundaries where the algorithm would have otherwise predicted for the species to be `versicolor`. Based on what you know about the algorithm, discuss these following questions: \n",
    "\n",
    "- Why have so many `virginica` datapoints been misclassified as `versicolor`?\n",
    "- What would happen if we decreased the number of neighbors factored into the algorithm? Increased? **Try this!** Feel free to change the number of neighbors in the above cell to test your hypothesis.\n",
    "- Is `kNN` a good algorithm for classifying these three species of flowers? Why or why not? \n",
    "- Is `kNN` a linear classifier? \n",
    "\n",
    "**Write-up!** Make notes of your answers. "
   ]
  },
  {
   "cell_type": "markdown",
   "metadata": {},
   "source": [
    "**Your response here:** \n"
   ]
  },
  {
   "cell_type": "markdown",
   "metadata": {},
   "source": [
    "### What about Feature Scaling? \n",
    "Does scaling have an effect on our k-NN algorithm? Let's scale our features and look at another graph to find out. In the previous plot, data was not scaled prior to training the algorithm.\n",
    "\n",
    "We will check both `min_max_scale` and `standardize`. \n",
    "\n",
    "**Try this!** Min-max scale `X_2D_train` and `X_2D_test` appropriately and store the scaled training data in `X_2D_train_scaled` and the scaled test data in `X_2D_test_scaled`. Plot the decision boundaries using `plot_knn`.\n",
    "> **Hint**: use the min and max used to scale the training set to **also** scale the testing set."
   ]
  },
  {
   "cell_type": "code",
   "execution_count": 41,
   "metadata": {},
   "outputs": [
    {
     "name": "stdout",
     "output_type": "stream",
     "text": [
      "(2,)\n",
      "(98, 2)\n",
      "(2,)\n",
      "(18, 2)\n"
     ]
    },
    {
     "name": "stderr",
     "output_type": "stream",
     "text": [
      "C:\\Users\\Hyrul\\miniconda3\\envs\\cse217a\\lib\\site-packages\\ipykernel_launcher.py:21: RuntimeWarning: divide by zero encountered in true_divide\n"
     ]
    }
   ],
   "source": [
    "X_2D_train_scaled, min_scale_by, max_scale_by = min_max_scale(X_2D_train)\n",
    "X_2D_test_scaled = min_max_scale(X_2D_test, min_scale_by, min_scale_by)\n",
    "\n",
    "\n",
    "assert X_2D_test_scaled.min()!=0.0 and X_2D_test_scaled.max()!=1.0, \\\n",
    "            'Use the min and max of the training data to scale your test data.'"
   ]
  },
  {
   "cell_type": "markdown",
   "metadata": {},
   "source": [
    "**Try this!** Standardize `X_2D_train` and `X_2D_test` appropriately and store the standardized training data in `X_2D_train_std` and the scaled test data in `X_2D_test_std`. Plot the decision boundaries using `plot_knn`.\n",
    "\n",
    "> **Hint**: use the mean and std used to scale the training set to **also** scale the testing set."
   ]
  },
  {
   "cell_type": "code",
   "execution_count": null,
   "metadata": {},
   "outputs": [],
   "source": [
    "# your code here \n",
    "\n",
    "\n",
    "assert X_2D_test_std.mean()!=0.0 and X_2D_test_std.std()!=1.0, \\\n",
    "            'Use the min and max of the training data to scale your test data!'"
   ]
  },
  {
   "cell_type": "markdown",
   "metadata": {},
   "source": [
    "**Write-up!** Do you notice any differences? Which version of `kNN` works best for `my_k = 5`?"
   ]
  },
  {
   "cell_type": "markdown",
   "metadata": {},
   "source": [
    "**Your response here:** \n"
   ]
  },
  {
   "cell_type": "markdown",
   "metadata": {},
   "source": [
    "Great! Now, we have **selected** our data transformation method (and hyperparameter k). \n",
    "\n",
    "**Write-up!** Did we forget anything? What do you tell your boss, if she asks you how well your approach works for _unseen_ data? "
   ]
  },
  {
   "cell_type": "markdown",
   "metadata": {},
   "source": [
    "**Your response here:** \n"
   ]
  },
  {
   "cell_type": "markdown",
   "metadata": {},
   "source": [
    "**Awesome! Now that we've implemented k-NN by ourselves and investigated (some of) its workings, we can comfortably use the k-NN function provided by SciKit Learn (cf. `hw8`).**"
   ]
  }
 ],
 "metadata": {
  "kernelspec": {
   "display_name": "Python 3",
   "language": "python",
   "name": "python3"
  },
  "language_info": {
   "codemirror_mode": {
    "name": "ipython",
    "version": 3
   },
   "file_extension": ".py",
   "mimetype": "text/x-python",
   "name": "python",
   "nbconvert_exporter": "python",
   "pygments_lexer": "ipython3",
   "version": "3.7.11"
  }
 },
 "nbformat": 4,
 "nbformat_minor": 4
}
